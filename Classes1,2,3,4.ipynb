{
  "nbformat": 4,
  "nbformat_minor": 0,
  "metadata": {
    "colab": {
      "provenance": [],
      "authorship_tag": "ABX9TyNQ06fCArmWBTyePWpurd0B",
      "include_colab_link": true
    },
    "kernelspec": {
      "name": "python3",
      "display_name": "Python 3"
    },
    "language_info": {
      "name": "python"
    }
  },
  "cells": [
    {
      "cell_type": "markdown",
      "metadata": {
        "id": "view-in-github",
        "colab_type": "text"
      },
      "source": [
        "<a href=\"https://colab.research.google.com/github/guilhermelaviola/IntegrativePracticeOfDataScienceSolutionsWithDisruptiveTechnologies/blob/main/Classes1%2C2%2C3%2C4.ipynb\" target=\"_parent\"><img src=\"https://colab.research.google.com/assets/colab-badge.svg\" alt=\"Open In Colab\"/></a>"
      ]
    },
    {
      "cell_type": "markdown",
      "source": [
        "Lists"
      ],
      "metadata": {
        "id": "GuEUWSXDtYqr"
      }
    },
    {
      "cell_type": "code",
      "execution_count": 4,
      "metadata": {
        "colab": {
          "base_uri": "https://localhost:8080/"
        },
        "id": "kAWlogi6p8-F",
        "outputId": "df10ff3c-5b46-4e9b-95c7-e098e89361de"
      },
      "outputs": [
        {
          "output_type": "stream",
          "name": "stdout",
          "text": [
            "['Yann Sommer', 'Manual Akanji', 'Francesco Acerbi', 'Alessandro Bastoni', 'Denzel Dumfries', 'Nicolo Barella', 'Hakan Çalhanoglu', 'Henrikh Mkhitaryan', 'Federico Dimarco', 'Lautaro Martínez', 'Marcus Thuram', 'Davide Frattesi']\n"
          ]
        }
      ],
      "source": [
        "# Creating an array to store the current Inter Milan starting eleven in 2025:\n",
        "inter_milan_players = ['Yann Sommer', 'Manual Akanji', 'Francesco Acerbi', 'Alessandro Bastoni', 'Denzel Dumfries', 'Nicolo Barella', 'Hakan Çalhanoglu', 'Henrikh Mkhitaryan', 'Federico Dimarco', 'Lautaro Martínez', 'Marcus Thuram']\n",
        "inter_milan_players.append('Davide Frattesi')\n",
        "\n",
        "# Adding a new player to the array:\n",
        "print(inter_milan_players)"
      ]
    },
    {
      "cell_type": "code",
      "source": [
        "# Accessing the first and last elements:\n",
        "print(inter_milan_players[0])\n",
        "print(inter_milan_players[-1])"
      ],
      "metadata": {
        "colab": {
          "base_uri": "https://localhost:8080/"
        },
        "id": "yKEV0RuKq8zT",
        "outputId": "744a392e-5f9f-46eb-bacb-6632640d4e59"
      },
      "execution_count": 5,
      "outputs": [
        {
          "output_type": "stream",
          "name": "stdout",
          "text": [
            "Yann Sommer\n",
            "Davide Frattesi\n"
          ]
        }
      ]
    },
    {
      "cell_type": "code",
      "source": [
        "# Sorting the array elements in alphabetical order and displaying the array after the changes:\n",
        "inter_milan_players.sort()\n",
        "print(inter_milan_players)"
      ],
      "metadata": {
        "colab": {
          "base_uri": "https://localhost:8080/"
        },
        "id": "KzhhsAHBrQhX",
        "outputId": "7b24b061-39a1-4963-b32c-7ffeef374123"
      },
      "execution_count": 6,
      "outputs": [
        {
          "output_type": "stream",
          "name": "stdout",
          "text": [
            "['Alessandro Bastoni', 'Davide Frattesi', 'Denzel Dumfries', 'Federico Dimarco', 'Francesco Acerbi', 'Hakan Çalhanoglu', 'Henrikh Mkhitaryan', 'Lautaro Martínez', 'Manual Akanji', 'Marcus Thuram', 'Nicolo Barella', 'Yann Sommer']\n"
          ]
        }
      ]
    },
    {
      "cell_type": "markdown",
      "source": [
        "Tuple"
      ],
      "metadata": {
        "id": "bg90hDy8tcXw"
      }
    },
    {
      "cell_type": "code",
      "source": [
        "# Creating a tuple to store some the legendary Inter Milan players:\n",
        "legendary_players = ('Javier Zanetti', 'Giuseppe Meazza', 'Alessandro Altobelli', 'Sandro Mazzola')\n",
        "print(legendary_players)\n",
        "\n",
        "# Slicing the tuple:\n",
        "print(legendary_players[0:2])"
      ],
      "metadata": {
        "colab": {
          "base_uri": "https://localhost:8080/"
        },
        "id": "Avmrlwsnr1-b",
        "outputId": "9c6c5368-c13c-4054-9b87-4cb8ec7fc068"
      },
      "execution_count": 8,
      "outputs": [
        {
          "output_type": "stream",
          "name": "stdout",
          "text": [
            "('Javier Zanetti', 'Giuseppe Meazza', 'Alessandro Altobelli', 'Sandro Mazzola')\n",
            "('Javier Zanetti', 'Giuseppe Meazza')\n"
          ]
        }
      ]
    },
    {
      "cell_type": "markdown",
      "source": [
        "Dictionary"
      ],
      "metadata": {
        "id": "UmKRyabBuLph"
      }
    },
    {
      "cell_type": "code",
      "source": [
        "# Crearing a Dictionary to represent Lautaro Martínez, who's currently Inter's #10:\n",
        "player = {\n",
        "    'first_name': 'Lautaro',\n",
        "    'middle_name': '',\n",
        "    'last_name': 'Martínez',\n",
        "    'year_of_birth': 1997,\n",
        "    'position': ['Second Striker', 'Centre Forward'],\n",
        "    'at_club_since': 2018\n",
        "}\n",
        "\n",
        "# Printing the first name:\n",
        "print(player['first_name'])\n",
        "# Adding a new key-value attribute:\n",
        "player['Former club'] = ['Racing', 'ARG']\n",
        "# Displaying the dictionary after the change:\n",
        "print(player)"
      ],
      "metadata": {
        "colab": {
          "base_uri": "https://localhost:8080/"
        },
        "id": "VDw3C7JPuKZL",
        "outputId": "ca9c1be7-6bfb-46a9-aa20-374192ac1e86"
      },
      "execution_count": 10,
      "outputs": [
        {
          "output_type": "stream",
          "name": "stdout",
          "text": [
            "Lautaro\n",
            "{'first_name': 'Lautaro', 'middle_name': '', 'last_name': 'Martínez', 'year_of_birth': 1997, 'position': ['Second Striker', 'Centre Forward'], 'at_club_since': 2018, 'Former club': ['Racing', 'ARG']}\n"
          ]
        }
      ]
    }
  ]
}