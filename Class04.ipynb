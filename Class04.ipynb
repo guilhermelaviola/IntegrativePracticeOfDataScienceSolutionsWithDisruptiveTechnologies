{
  "nbformat": 4,
  "nbformat_minor": 0,
  "metadata": {
    "colab": {
      "provenance": [],
      "authorship_tag": "ABX9TyNwdmZMJl4GfSmcbD5c00q3",
      "include_colab_link": true
    },
    "kernelspec": {
      "name": "python3",
      "display_name": "Python 3"
    },
    "language_info": {
      "name": "python"
    }
  },
  "cells": [
    {
      "cell_type": "markdown",
      "metadata": {
        "id": "view-in-github",
        "colab_type": "text"
      },
      "source": [
        "<a href=\"https://colab.research.google.com/github/guilhermelaviola/IntegrativePracticeOfDataScienceSolutionsWithDisruptiveTechnologies/blob/main/Class04.ipynb\" target=\"_parent\"><img src=\"https://colab.research.google.com/assets/colab-badge.svg\" alt=\"Open In Colab\"/></a>"
      ]
    },
    {
      "cell_type": "code",
      "execution_count": 3,
      "metadata": {
        "id": "iwFvqZV_w_qp"
      },
      "outputs": [],
      "source": [
        "# Creating an array with the amount of ammunition of different types:\n",
        "ammunition <- c(10, 5, 20, 15)\n",
        "\n",
        "# Creating a data frame with sensor data:\n",
        "sensor_data <- data.frame(\n",
        "    enemy = c('tank', 'infantry', 'tank', 'infantry'),\n",
        "    distance = c(100, 50, 150, 75),\n",
        "    damage = c(0, 10, 0, 5)\n",
        ")"
      ]
    },
    {
      "cell_type": "code",
      "source": [
        "# Basic operations for data manipulation with dplyr:\n",
        "library(dplyr)\n",
        "\n",
        "filtered_data <- sensor_data %>%\n",
        "filter(distance < 100) %>% # Filtering close enemies\n",
        "select(enemy, distance) # Selecting only relevant columns"
      ],
      "metadata": {
        "id": "1Gll2RP4xxVV"
      },
      "execution_count": null,
      "outputs": []
    },
    {
      "cell_type": "code",
      "source": [
        "# Data visualization with ggplot2:\n",
        "library(ggplot2)\n",
        "\n",
        "ggplot(sensor_data, aes(x = enemy, y = danos)) +\n",
        "geom_bar(stat = 'identity') + # Bar chart\n",
        "labs(title = 'Damage caused by enemy type', x = 'Enemy type', y = 'Damage')​"
      ],
      "metadata": {
        "id": "3laJXsUeyZaI"
      },
      "execution_count": null,
      "outputs": []
    }
  ]
}