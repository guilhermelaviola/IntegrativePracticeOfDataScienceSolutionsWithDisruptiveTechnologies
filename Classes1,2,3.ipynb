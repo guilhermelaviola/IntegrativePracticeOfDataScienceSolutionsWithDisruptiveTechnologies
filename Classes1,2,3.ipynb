{
  "nbformat": 4,
  "nbformat_minor": 0,
  "metadata": {
    "colab": {
      "provenance": [],
      "authorship_tag": "ABX9TyPPfd2BEfUO5CZEKGHBmivs",
      "include_colab_link": true
    },
    "kernelspec": {
      "name": "python3",
      "display_name": "Python 3"
    },
    "language_info": {
      "name": "python"
    }
  },
  "cells": [
    {
      "cell_type": "markdown",
      "metadata": {
        "id": "view-in-github",
        "colab_type": "text"
      },
      "source": [
        "<a href=\"https://colab.research.google.com/github/guilhermelaviola/IntegrativePracticeOfDataScienceSolutionsWithDisruptiveTechnologies/blob/main/Classes1%2C2%2C3.ipynb\" target=\"_parent\"><img src=\"https://colab.research.google.com/assets/colab-badge.svg\" alt=\"Open In Colab\"/></a>"
      ]
    },
    {
      "cell_type": "markdown",
      "source": [
        "## **List**\n",
        "Python lists are ordered, mutable collections of items. They are a fundamental and versatile built-in data type in Python, used to store multiple values in a single variable."
      ],
      "metadata": {
        "id": "GuEUWSXDtYqr"
      }
    },
    {
      "cell_type": "code",
      "execution_count": 1,
      "metadata": {
        "colab": {
          "base_uri": "https://localhost:8080/"
        },
        "id": "kAWlogi6p8-F",
        "outputId": "094096f4-270d-4fb7-8861-a787df6900d7"
      },
      "outputs": [
        {
          "output_type": "stream",
          "name": "stdout",
          "text": [
            "['Yann Sommer', 'Manual Akanji', 'Francesco Acerbi', 'Alessandro Bastoni', 'Denzel Dumfries', 'Nicolo Barella', 'Hakan Çalhanoglu', 'Henrikh Mkhitaryan', 'Federico Dimarco', 'Lautaro Martínez', 'Marcus Thuram', 'Davide Frattesi']\n"
          ]
        }
      ],
      "source": [
        "# Creating an array to store the current Inter Milan starting eleven in 2025:\n",
        "inter_milan_players = ['Yann Sommer', 'Manual Akanji', 'Francesco Acerbi', 'Alessandro Bastoni', 'Denzel Dumfries', 'Nicolo Barella', 'Hakan Çalhanoglu', 'Henrikh Mkhitaryan', 'Federico Dimarco', 'Lautaro Martínez', 'Marcus Thuram']\n",
        "inter_milan_players.append('Davide Frattesi')\n",
        "\n",
        "# Adding a new player to the array:\n",
        "print(inter_milan_players)"
      ]
    },
    {
      "cell_type": "code",
      "source": [
        "# Accessing the first and last elements:\n",
        "print(inter_milan_players[0])\n",
        "print(inter_milan_players[-1])"
      ],
      "metadata": {
        "colab": {
          "base_uri": "https://localhost:8080/"
        },
        "id": "yKEV0RuKq8zT",
        "outputId": "1e0c0223-db3d-4aed-8428-5fe1fcd3ce2f"
      },
      "execution_count": 2,
      "outputs": [
        {
          "output_type": "stream",
          "name": "stdout",
          "text": [
            "Yann Sommer\n",
            "Davide Frattesi\n"
          ]
        }
      ]
    },
    {
      "cell_type": "code",
      "source": [
        "# Sorting the array elements in alphabetical order and displaying the array after the changes:\n",
        "inter_milan_players.sort()\n",
        "print(inter_milan_players)"
      ],
      "metadata": {
        "colab": {
          "base_uri": "https://localhost:8080/"
        },
        "id": "KzhhsAHBrQhX",
        "outputId": "c11ac954-81d3-4ae3-da45-832d1035d742"
      },
      "execution_count": 3,
      "outputs": [
        {
          "output_type": "stream",
          "name": "stdout",
          "text": [
            "['Alessandro Bastoni', 'Davide Frattesi', 'Denzel Dumfries', 'Federico Dimarco', 'Francesco Acerbi', 'Hakan Çalhanoglu', 'Henrikh Mkhitaryan', 'Lautaro Martínez', 'Manual Akanji', 'Marcus Thuram', 'Nicolo Barella', 'Yann Sommer']\n"
          ]
        }
      ]
    },
    {
      "cell_type": "markdown",
      "source": [
        "## **Tuple**\n",
        "A Python tuple is an ordered, immutable collection of items. It is one of Python's built-in data types used to store collections of data, alongside lists, sets, and dictionaries."
      ],
      "metadata": {
        "id": "bg90hDy8tcXw"
      }
    },
    {
      "cell_type": "code",
      "source": [
        "# Creating a tuple to store some the legendary Inter Milan players:\n",
        "legendary_players = ('Javier Zanetti', 'Giuseppe Meazza', 'Alessandro Altobelli', 'Sandro Mazzola')\n",
        "print(legendary_players)\n",
        "\n",
        "# Slicing the tuple:\n",
        "print(legendary_players[0:2])"
      ],
      "metadata": {
        "colab": {
          "base_uri": "https://localhost:8080/"
        },
        "id": "Avmrlwsnr1-b",
        "outputId": "68fc09c8-c6d9-4207-aa7a-93f199bf95b9"
      },
      "execution_count": 4,
      "outputs": [
        {
          "output_type": "stream",
          "name": "stdout",
          "text": [
            "('Javier Zanetti', 'Giuseppe Meazza', 'Alessandro Altobelli', 'Sandro Mazzola')\n",
            "('Javier Zanetti', 'Giuseppe Meazza')\n"
          ]
        }
      ]
    },
    {
      "cell_type": "markdown",
      "source": [
        "## **Dictionary**\n",
        "A Python dictionary is a built-in data type that stores data in key-value pairs. It is an unordered, mutable collection where each unique key maps to a specific value. Dictionaries are also known as \"dict\" and are represented by key:value pairs enclosed within curly braces {}."
      ],
      "metadata": {
        "id": "UmKRyabBuLph"
      }
    },
    {
      "cell_type": "code",
      "source": [
        "# Crearing a Dictionary to represent Lautaro Martínez, who's currently Inter's #10:\n",
        "player = {\n",
        "    'first_name': 'Lautaro',\n",
        "    'middle_name': '',\n",
        "    'last_name': 'Martínez',\n",
        "    'year_of_birth': 1997,\n",
        "    'position': ['Second Striker', 'Centre Forward'],\n",
        "    'at_club_since': 2018\n",
        "}\n",
        "\n",
        "# Printing the first name:\n",
        "print(player['first_name'])\n",
        "# Adding a new key-value attribute:\n",
        "player['Former club'] = ['Racing', 'ARG']\n",
        "# Displaying the dictionary after the change:\n",
        "print(player)"
      ],
      "metadata": {
        "colab": {
          "base_uri": "https://localhost:8080/"
        },
        "id": "VDw3C7JPuKZL",
        "outputId": "9c98ba28-92c8-4913-d13c-9453e45644bf"
      },
      "execution_count": 5,
      "outputs": [
        {
          "output_type": "stream",
          "name": "stdout",
          "text": [
            "Lautaro\n",
            "{'first_name': 'Lautaro', 'middle_name': '', 'last_name': 'Martínez', 'year_of_birth': 1997, 'position': ['Second Striker', 'Centre Forward'], 'at_club_since': 2018, 'Former club': ['Racing', 'ARG']}\n"
          ]
        }
      ]
    },
    {
      "cell_type": "markdown",
      "source": [
        "## **Set**\n",
        "Python sets are an unordered collection of unique elements. They are a built-in data type in Python, alongside lists, tuples, and dictionaries."
      ],
      "metadata": {
        "id": "1bQMq0AhKXrk"
      }
    },
    {
      "cell_type": "code",
      "source": [
        "sommer_clubs = {'Vaduz', 'Basel', 'Grasshoppers', 'Borussia Monchengladbach', 'Bayern Munich', 'Inter Milan'}\n",
        "mkhitaryan_clubs = {'Pyunik', 'Metalurh Donetsk', 'Shakhtar Donetsk', 'Borussia Dortmund', 'Manchester United', 'Arsenal', 'Roma', 'Inter Milan'}\n",
        "thuram_clubs = {'Sochaux', 'Guingamp', 'Borussia Monchengladbach', 'Inter Milan'}\n",
        "akanji_clubs = {'Winterthur', 'Basel', 'Borussia Dortmund', 'Manchester City', 'Inter Milan'}\n",
        "\n",
        "# Showing clubs the players had in common (intersection):\n",
        "clubs_in_common = sommer_clubs.intersection(mkhitaryan_clubs, thuram_clubs, akanji_clubs)\n",
        "print('Clubs in common:', clubs_in_common)\n",
        "\n",
        "# Showing all clubs the players played for (union):\n",
        "all_clubs = sommer_clubs.union(mkhitaryan_clubs, thuram_clubs, akanji_clubs)\n",
        "print('All clubs:', all_clubs)"
      ],
      "metadata": {
        "id": "lu1lvFoO6g3X",
        "outputId": "9fb123c1-e044-4195-eb4e-3c8a1f961bd6",
        "colab": {
          "base_uri": "https://localhost:8080/"
        }
      },
      "execution_count": 6,
      "outputs": [
        {
          "output_type": "stream",
          "name": "stdout",
          "text": [
            "Clubs in common: {'Inter Milan'}\n",
            "All clubs: {'Bayern Munich', 'Inter Milan', 'Basel', 'Borussia Dortmund', 'Guingamp', 'Winterthur', 'Vaduz', 'Roma', 'Grasshoppers', 'Arsenal', 'Metalurh Donetsk', 'Manchester City', 'Shakhtar Donetsk', 'Pyunik', 'Borussia Monchengladbach', 'Sochaux', 'Manchester United'}\n"
          ]
        }
      ]
    }
  ]
}